{
  "nbformat": 4,
  "nbformat_minor": 0,
  "metadata": {
    "colab": {
      "provenance": []
    },
    "kernelspec": {
      "name": "python3",
      "display_name": "Python 3"
    },
    "language_info": {
      "name": "python"
    }
  },
  "cells": [
    {
      "cell_type": "markdown",
      "source": [
        "Escribe un programa que solicite al usuario un número y que indique si es par o impar."
      ],
      "metadata": {
        "id": "KfMxQGUDMK4x"
      }
    },
    {
      "cell_type": "code",
      "source": [
        "x= int(input(\"Ingresa un numero: \"))\n",
        "if x%2==0:\n",
        "  print(\"Par\")\n",
        "else:\n",
        "  print(\"Impar\")"
      ],
      "metadata": {
        "colab": {
          "base_uri": "https://localhost:8080/"
        },
        "id": "svCWSXGtMO85",
        "outputId": "65ec73ae-6620-4342-ccc8-61d95d7b7661"
      },
      "execution_count": 7,
      "outputs": [
        {
          "output_type": "stream",
          "name": "stdout",
          "text": [
            "Ingresa un numero: 22\n",
            "Par\n"
          ]
        }
      ]
    },
    {
      "cell_type": "markdown",
      "source": [
        "Escribe un programa que tome una lista de números ingresados por el usuario y muestre la lista en orden inverso."
      ],
      "metadata": {
        "id": "7_ISKJJbMyzB"
      }
    },
    {
      "cell_type": "code",
      "source": [
        "lista=[]\n",
        "x= int(input(\"De que cantidad de datos quieres la lista?\"))\n",
        "y=x\n",
        "while x > 0:\n",
        "  y=int(input(\"Ingrese un numero:\"))\n",
        "  lista.append(y)\n",
        "  x-=1\n",
        "while y >0:\n",
        "  print(lista[y-1])\n",
        "  y-=1"
      ],
      "metadata": {
        "colab": {
          "base_uri": "https://localhost:8080/"
        },
        "id": "Wgmuf6v0MzlB",
        "outputId": "30584baa-6380-4aaa-a1b5-9582e87a5e11"
      },
      "execution_count": 29,
      "outputs": [
        {
          "output_type": "stream",
          "name": "stdout",
          "text": [
            "De que cantidad de datos quieres la lista?5\n",
            "Ingrese un numero:1\n",
            "Ingrese un numero:2\n",
            "Ingrese un numero:3\n",
            "Ingrese un numero:4\n",
            "Ingrese un numero:5\n",
            "5\n",
            "4\n",
            "3\n",
            "2\n",
            "1\n"
          ]
        }
      ]
    },
    {
      "cell_type": "markdown",
      "source": [
        "Juego de adivinar el número: Crea un programa que genere un número aleatorio entre 1 y 100, y luego le pida al usuario que adivine el número. El programa debe proporcionar pistas al usuario si el número es mayor o menor que el número objetivo, y seguir solicitando un nuevo intento hasta que el usuario adivine correctamente."
      ],
      "metadata": {
        "id": "La7Pqf_fRCxl"
      }
    },
    {
      "cell_type": "code",
      "source": [
        "import random\n",
        "NumeroAleatorio = random.randint(1,100)\n",
        "while NumeroAleatorio != NumeroUsuario:\n",
        "  NumeroUsuario = int(input(\"Ingresa un numero del 1 al 100 para adivinar\"))\n",
        "  if NumeroUsuario > NumeroAleatorio:\n",
        "    print(\"El numero es mas pequeño\")\n",
        "  elif NumeroUsuario < NumeroAleatorio:\n",
        "    print(\"El numero es mas grande\")\n",
        "  else:\n",
        "    print(\"Adivinaste el numero\")"
      ],
      "metadata": {
        "colab": {
          "base_uri": "https://localhost:8080/"
        },
        "id": "onUe5z6uRFqV",
        "outputId": "e6fb9b51-4015-4b03-e2b0-fc9e55dae7ab"
      },
      "execution_count": 34,
      "outputs": [
        {
          "output_type": "stream",
          "name": "stdout",
          "text": [
            "Ingresa un numero del 1 al 100 para adivinar50\n",
            "El numero es mas pequeño\n",
            "Ingresa un numero del 1 al 100 para adivinar20\n",
            "El numero es mas pequeño\n",
            "Ingresa un numero del 1 al 100 para adivinar10\n",
            "El numero es mas pequeño\n",
            "Ingresa un numero del 1 al 100 para adivinar5\n",
            "El numero es mas pequeño\n",
            "Ingresa un numero del 1 al 100 para adivinar2\n",
            "El numero es mas grande\n",
            "Ingresa un numero del 1 al 100 para adivinar3\n",
            "El numero es mas grande\n",
            "Ingresa un numero del 1 al 100 para adivinar4\n",
            "Adivinaste el numero\n"
          ]
        }
      ]
    },
    {
      "cell_type": "markdown",
      "source": [
        "Ejercicio de cálculo de números primos en un rango dado: Escribe un programa que solicite al usuario un rango de números y muestre todos los números primos dentro de ese rango."
      ],
      "metadata": {
        "id": "57rKoTD5RHbd"
      }
    },
    {
      "cell_type": "code",
      "source": [
        "r_inicial = int(input(\"Ingrese el rango inicial\"))\n",
        "r_final = int(input(\"Ingrese el rango final\"))\n",
        "print(\"Los numeros primos dentro del rango son: \")\n",
        "for n in range(r_inicial, r_final):\n",
        "  if n > 1:\n",
        "    for i in range(2,n):\n",
        "      if n%i == 0:\n",
        "        break\n",
        "    else:\n",
        "      print(n)\n"
      ],
      "metadata": {
        "colab": {
          "base_uri": "https://localhost:8080/"
        },
        "id": "K2Du8YcARKMt",
        "outputId": "63f72ee6-e167-42f8-b48c-c392e2293e97"
      },
      "execution_count": 35,
      "outputs": [
        {
          "output_type": "stream",
          "name": "stdout",
          "text": [
            "Ingrese el rango inicial1\n",
            "Ingrese el rango final50\n",
            "Los numeros primos dentro del rango son: \n",
            "2\n",
            "3\n",
            "5\n",
            "7\n",
            "11\n",
            "13\n",
            "17\n",
            "19\n",
            "23\n",
            "29\n",
            "31\n",
            "37\n",
            "41\n",
            "43\n",
            "47\n"
          ]
        }
      ]
    }
  ]
}