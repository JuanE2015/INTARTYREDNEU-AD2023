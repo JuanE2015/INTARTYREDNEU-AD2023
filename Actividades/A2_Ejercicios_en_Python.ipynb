{
  "nbformat": 4,
  "nbformat_minor": 0,
  "metadata": {
    "colab": {
      "provenance": []
    },
    "kernelspec": {
      "name": "python3",
      "display_name": "Python 3"
    },
    "language_info": {
      "name": "python"
    }
  },
  "cells": [
    {
      "cell_type": "markdown",
      "source": [
        "Escribe un programa que solicite al usuario un número y que indique si es par o impar."
      ],
      "metadata": {
        "id": "KfMxQGUDMK4x"
      }
    },
    {
      "cell_type": "code",
      "source": [
        "x= int(input(\"Ingresa un numero: \"))\n",
        "if x%2==0:\n",
        "  print(\"Par\")\n",
        "else:\n",
        "  print(\"Impar\")"
      ],
      "metadata": {
        "colab": {
          "base_uri": "https://localhost:8080/"
        },
        "id": "svCWSXGtMO85",
        "outputId": "65ec73ae-6620-4342-ccc8-61d95d7b7661"
      },
      "execution_count": 7,
      "outputs": [
        {
          "output_type": "stream",
          "name": "stdout",
          "text": [
            "Ingresa un numero: 22\n",
            "Par\n"
          ]
        }
      ]
    },
    {
      "cell_type": "markdown",
      "source": [
        "Escribe un programa que tome una lista de números ingresados por el usuario y muestre la lista en orden inverso."
      ],
      "metadata": {
        "id": "7_ISKJJbMyzB"
      }
    },
    {
      "cell_type": "code",
      "source": [
        "lista=[]\n",
        "x= int(input(\"De que cantidad de datos quieres la lista?\"))\n",
        "y=x\n",
        "while x > 0:\n",
        "  y=int(input(\"Ingrese un numero:\"))\n",
        "  lista.append(y)\n",
        "  x-=1\n",
        "while y >0:\n",
        "  print(lista[y-1])\n",
        "  y-=1"
      ],
      "metadata": {
        "id": "Wgmuf6v0MzlB"
      },
      "execution_count": null,
      "outputs": []
    },
    {
      "cell_type": "markdown",
      "source": [
        "Juego de adivinar el número: Crea un programa que genere un número aleatorio entre 1 y 100, y luego le pida al usuario que adivine el número. El programa debe proporcionar pistas al usuario si el número es mayor o menor que el número objetivo, y seguir solicitando un nuevo intento hasta que el usuario adivine correctamente."
      ],
      "metadata": {
        "id": "La7Pqf_fRCxl"
      }
    },
    {
      "cell_type": "code",
      "source": [
        "import random\n",
        "NumeroAleatorio = random.randint(1,100)\n",
        "while NumeroAleatorio != NumeroUsuario:\n",
        "  NumeroUsuario = int(input(\"Ingresa un numero del 1 al 100 para adivinar\"))\n",
        "  if NumeroUsuario > NumeroAleatorio:\n",
        "    print(\"El numero es mas pequeño\")\n",
        "  elif NumeroUsuario < NumeroAleatorio:\n",
        "    print(\"El numero es mas grande\")\n",
        "  else:\n",
        "    print(\"Adivinaste el numero\")"
      ],
      "metadata": {
        "id": "onUe5z6uRFqV"
      },
      "execution_count": null,
      "outputs": []
    },
    {
      "cell_type": "markdown",
      "source": [
        "Ejercicio de cálculo de números primos en un rango dado: Escribe un programa que solicite al usuario un rango de números y muestre todos los números primos dentro de ese rango."
      ],
      "metadata": {
        "id": "57rKoTD5RHbd"
      }
    },
    {
      "cell_type": "code",
      "source": [
        "r_inicial = int(input(\"Ingrese el rango inicial\"))\n",
        "r_final = int(input(\"Ingrese el rango final\"))\n",
        "print(\"Los numeros primos dentro del rango son: \")\n",
        "for n in range(r_inicial, r_final):\n",
        "  if n > 1:\n",
        "    for i in range(2,n):\n",
        "      if n%i == 0:\n",
        "        break\n",
        "    else:\n",
        "      print(n)\n"
      ],
      "metadata": {
        "id": "K2Du8YcARKMt"
      },
      "execution_count": null,
      "outputs": []
    }
  ]
}